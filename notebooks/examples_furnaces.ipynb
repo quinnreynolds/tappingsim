{
 "cells": [
  {
   "cell_type": "code",
   "execution_count": 1,
   "id": "fc353ed9-a033-4997-ac85-286f7bb44431",
   "metadata": {},
   "outputs": [],
   "source": [
    "import numpy\n",
    "from tappingsim.furnaces import SubmergedArcFurnace, bedmodel_ergun, fdmodel_cheng"
   ]
  },
  {
   "cell_type": "markdown",
   "id": "ef5685d5-4f93-43a9-b0b7-f61b8d8c9cef",
   "metadata": {},
   "source": [
    "#### Initialise a furnace object"
   ]
  },
  {
   "cell_type": "code",
   "execution_count": 2,
   "id": "ed9ba992-ff4d-44a9-98d5-14fa8f58a38f",
   "metadata": {},
   "outputs": [],
   "source": [
    "parameters = {'powerMVA': 40, 'powerfactor': 0.8, 'metalSER': 3.5, 'slagmetalmassratio': 1.2,\n",
    "              'furnacediameter': 12, 'activeareafraction': 0.75, 'tapholediameter': 0.1, 'tapholelength': 1.5,\n",
    "              'tapholeroughness': 1e-3, 'tapholeheight': 0.1, 'densitymetal': 7000, 'densityslag': 3000,\n",
    "              'viscositymetal': 0.005, 'viscosityslag': 0.1, 'particlediameter': 0.02, 'particlesphericity': 0.8,\n",
    "              'bedporosity': 0.5, 'bedmindiameter': 0.2, 'bedmaxdiameter': 20, 'bedmodel': bedmodel_ergun,\n",
    "              'entrykl': 0.25, 'fdmodel': fdmodel_cheng, 'hmetal_init': 0.25, 'hslag_init': 0.4}\n",
    "\n",
    "saf = SubmergedArcFurnace(**parameters)"
   ]
  },
  {
   "cell_type": "markdown",
   "id": "0646109f-2925-4a5e-a6f4-9fc897267d21",
   "metadata": {},
   "source": [
    "#### Calculate a single time step with the tap-hole closed"
   ]
  },
  {
   "cell_type": "code",
   "execution_count": 3,
   "id": "061b6c42-b3a7-4fe8-a9df-5abc05901fd3",
   "metadata": {},
   "outputs": [],
   "source": [
    "saf.tapholeopen_yn = False\n",
    "saf.calc_dt(dt=60)"
   ]
  },
  {
   "cell_type": "code",
   "execution_count": 4,
   "id": "6330b660-8d32-4bcd-aaf7-199f842ff8b7",
   "metadata": {},
   "outputs": [
    {
     "name": "stdout",
     "output_type": "stream",
     "text": [
      "Furnace metal level after 60 s = 0.2505132736889837 m\n",
      "Furnace slag level after 60 s = 0.40195044001813807 m\n"
     ]
    }
   ],
   "source": [
    "print(f'Furnace metal level after 60 s = {saf.hmetal} m')\n",
    "print(f'Furnace slag level after 60 s = {saf.hslag} m')"
   ]
  },
  {
   "cell_type": "code",
   "execution_count": 5,
   "id": "d10b6088-b9f3-4cb5-9ddd-1043199f02a8",
   "metadata": {},
   "outputs": [
    {
     "name": "stdout",
     "output_type": "stream",
     "text": [
      "Tapping flowrate of metal with tap-hole closed = 0 m3/s\n",
      "Tapping flowrate of slag with tap-hole closed = 0 m3/s\n"
     ]
    }
   ],
   "source": [
    "print(f'Tapping flowrate of metal with tap-hole closed = {saf.vdotmetal_out} m3/s')\n",
    "print(f'Tapping flowrate of slag with tap-hole closed = {saf.vdotslag_out} m3/s')"
   ]
  },
  {
   "cell_type": "markdown",
   "id": "9c70fc2b-7dac-4d6e-a190-25ae8d86f7d9",
   "metadata": {},
   "source": [
    "#### Calculate a single time step with the tap-hole open"
   ]
  },
  {
   "cell_type": "code",
   "execution_count": 6,
   "id": "881bb851-8b8e-4578-973f-e19280f762a7",
   "metadata": {},
   "outputs": [],
   "source": [
    "saf.tapholeopen_yn = True\n",
    "saf.calc_dt(dt=60)"
   ]
  },
  {
   "cell_type": "code",
   "execution_count": 7,
   "id": "31031e1c-d10f-482a-bb19-c7bf71e5666d",
   "metadata": {},
   "outputs": [
    {
     "name": "stdout",
     "output_type": "stream",
     "text": [
      "Furnace metal level after 120 s = 0.23748715684043864 m\n",
      "Furnace slag level after 120 s = 0.38818522921477017 m\n"
     ]
    }
   ],
   "source": [
    "print(f'Furnace metal level after 120 s = {saf.hmetal} m')\n",
    "print(f'Furnace slag level after 120 s = {saf.hslag} m')"
   ]
  },
  {
   "cell_type": "code",
   "execution_count": 8,
   "id": "5258cddc-8bef-43c8-a843-3974bc62c746",
   "metadata": {},
   "outputs": [
    {
     "name": "stdout",
     "output_type": "stream",
     "text": [
      "Tapping flowrate of metal with tap-hole open = 0.00957043121552626 m3/s\n",
      "Tapping flowrate of slag with tap-hole open = 0.0015383077470994438 m3/s\n"
     ]
    }
   ],
   "source": [
    "print(f'Tapping flowrate of metal with tap-hole open = {saf.vdotmetal_out} m3/s')\n",
    "print(f'Tapping flowrate of slag with tap-hole open = {saf.vdotslag_out} m3/s')"
   ]
  },
  {
   "cell_type": "markdown",
   "id": "afe9261a-3514-4615-aaa7-4d916c4943d5",
   "metadata": {},
   "source": [
    "#### Calculate multiple time steps in an interval"
   ]
  },
  {
   "cell_type": "code",
   "execution_count": 9,
   "id": "ef3733d3-973a-4376-b2fe-093bdb7477b6",
   "metadata": {},
   "outputs": [],
   "source": [
    "timevals = numpy.linspace(0, 480, 480)\n",
    "metaltapped, slagtapped = saf.calc_time_period(times=timevals)"
   ]
  },
  {
   "cell_type": "code",
   "execution_count": 10,
   "id": "285eff25-c07c-4382-a660-8dcdad1f8bd6",
   "metadata": {},
   "outputs": [
    {
     "name": "stdout",
     "output_type": "stream",
     "text": [
      "Mass of metal tapped during last 480 s = 24.81207235352223 t\n",
      "Mass of slag tapped during last 480 s = 3.2940891730885804 t\n"
     ]
    }
   ],
   "source": [
    "print(f'Mass of metal tapped during last 480 s = {metaltapped/1000} t')\n",
    "print(f'Mass of slag tapped during last 480 s = {slagtapped/1000} t')"
   ]
  }
 ],
 "metadata": {
  "kernelspec": {
   "display_name": "Python 3 (ipykernel)",
   "language": "python",
   "name": "python3"
  },
  "language_info": {
   "codemirror_mode": {
    "name": "ipython",
    "version": 3
   },
   "file_extension": ".py",
   "mimetype": "text/x-python",
   "name": "python",
   "nbconvert_exporter": "python",
   "pygments_lexer": "ipython3",
   "version": "3.10.12"
  }
 },
 "nbformat": 4,
 "nbformat_minor": 5
}
